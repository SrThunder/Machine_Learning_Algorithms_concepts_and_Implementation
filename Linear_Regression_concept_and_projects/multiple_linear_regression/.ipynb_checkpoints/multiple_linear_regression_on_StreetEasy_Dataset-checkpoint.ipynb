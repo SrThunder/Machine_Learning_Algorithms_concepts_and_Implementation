{
 "cells": [
  {
   "cell_type": "markdown",
   "metadata": {},
   "source": [
    "# MULTIPLE LINEAR REGRESSION\n",
    "## StreetEasy Dataset\n",
    "\n",
    "StreetEasy is New York City’s leading real estate marketplace — from studios to high-rises, Brooklyn Heights to Harlem.\n",
    "\n",
    "will be working with a dataset that contains a sample of 5,000 rentals listings in Manhattan, Brooklyn, and Queens, active on StreetEasy in June 2016.\n",
    "\n",
    "It has the following columns:\n",
    "\n",
    "* rental_id: rental ID\n",
    "* rent: price of rent in dollars\n",
    "* bedrooms: number of bedrooms\n",
    "* bathrooms: number of bathrooms\n",
    "* size_sqft: size in square feet\n",
    "* min_to_subway: distance from subway station in minutes\n",
    "* floor: floor number\n",
    "* building_age_yrs: building’s age in years\n",
    "* no_fee: does it have a broker fee? (0 for fee, 1 for no fee)\n",
    "* has_roofdeck: does it have a roof deck? (0 for no, 1 for yes)\n",
    "* has_washer_dryer: does it have washer/dryer in unit? (0/1)\n",
    "* has_doorman: does it have a doorman? (0/1)\n",
    "* has_elevator: does it have an elevator? (0/1)\n",
    "* has_dishwasher: does it have a dishwasher (0/1)\n",
    "* has_patio: does it have a patio? (0/1)\n",
    "* has_gym: does the building have a gym? (0/1)\n",
    "* neighborhood: (ex: Greenpoint)\n",
    "* borough: (ex: Brooklyn)\n",
    "\n",
    "More information about this dataset can be found in the StreetEasy Dataset article.\n",
    "\n",
    "Let’s start by doing exploratory data analysis to understand the dataset better. We have broken the dataset  into:\n",
    "\n",
    "* manhattan.csv\n",
    "* brooklyn.csv\n",
    "* queens.csv"
   ]
  },
  {
   "cell_type": "code",
   "execution_count": 1,
   "metadata": {},
   "outputs": [
    {
     "name": "stdout",
     "output_type": "stream",
     "text": [
      "(2831, 14)\n",
      "(708, 14)\n",
      "(2831, 1)\n",
      "(708, 1)\n"
     ]
    }
   ],
   "source": [
    "\n",
    "import pandas as pd\n",
    "from sklearn.model_selection import train_test_split\n",
    "\n",
    "# import train_test_split\n",
    "\n",
    "streeteasy = pd.read_csv(\"manhattan.csv\")\n",
    "\n",
    "df = pd.DataFrame(streeteasy)\n",
    "\n",
    "x = df[['bedrooms', 'bathrooms', 'size_sqft', 'min_to_subway', 'floor', 'building_age_yrs', 'no_fee', 'has_roofdeck', 'has_washer_dryer', 'has_doorman', 'has_elevator', 'has_dishwasher', 'has_patio', 'has_gym']]\n",
    "\n",
    "y = df[['rent']]\n",
    "\n",
    "x_train, x_test, y_train, y_test = train_test_split(x,y,train_size=0.8, test_size=0.2, random_state=6)\n",
    "\n",
    "print(x_train.shape)\n",
    "print(x_test.shape)\n",
    "print(y_train.shape)\n",
    "print(y_test.shape)\n"
   ]
  },
  {
   "cell_type": "code",
   "execution_count": null,
   "metadata": {},
   "outputs": [],
   "source": [
    "\n",
    "import matplotlib.pyplot as plt\n",
    "import pandas as pd\n",
    "from sklearn.linear_model import LinearRegression\n",
    "from sklearn.model_selection import train_test_split\n",
    "\n",
    "\n",
    "streeteasy = pd.read_csv(\"https://raw.githubusercontent.com/sonnynomnom/Codecademy-Machine-Learning-Fundamentals/master/StreetEasy/manhattan.csv\")\n",
    "\n",
    "df = pd.DataFrame(streeteasy)\n",
    "\n",
    "x = df[['bedrooms', 'bathrooms', 'size_sqft', 'min_to_subway', 'floor', 'building_age_yrs', 'no_fee', 'has_roofdeck', 'has_washer_dryer', 'has_doorman', 'has_elevator', 'has_dishwasher', 'has_patio', 'has_gym']]\n",
    "\n",
    "y = df[['rent']]\n",
    "\n",
    "x_train, x_test, y_train, y_test = train_test_split(x, y, train_size = 0.8, test_size = 0.2, random_state=6)\n",
    "\n",
    "# Add the code here:\n",
    "mlr = LinearRegression()\n",
    "\n",
    "mlr.fit(x_train, y_train)\n",
    "\n",
    "y_predict = mlr.predict(x_train)\n",
    "\n",
    "sonny_apartment = [[1, 1, 620, 16, 1, 98, 1, 0, 1, 0, 0, 1, 1, 0]]\n",
    "\n",
    "predict = mlr.predict(sonny_apartment)\n",
    "#print(x_test[0])\n",
    "\n",
    "print(\"predicted rent: $%.2f\" % predict)\n",
    "\n",
    "\n",
    "\n",
    "\n",
    "\n",
    "\n",
    "\n",
    "\n",
    "\n",
    "\n",
    "\n"
   ]
  }
 ],
 "metadata": {
  "kernelspec": {
   "display_name": "Python 3",
   "language": "python",
   "name": "python3"
  },
  "language_info": {
   "codemirror_mode": {
    "name": "ipython",
    "version": 3
   },
   "file_extension": ".py",
   "mimetype": "text/x-python",
   "name": "python",
   "nbconvert_exporter": "python",
   "pygments_lexer": "ipython3",
   "version": "3.7.4"
  }
 },
 "nbformat": 4,
 "nbformat_minor": 2
}
