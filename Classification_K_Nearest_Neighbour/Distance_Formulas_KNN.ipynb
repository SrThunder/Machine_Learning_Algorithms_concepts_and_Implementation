{
 "cells": [
  {
   "cell_type": "markdown",
   "metadata": {},
   "source": [
    "# DISTANCE FORMULA\n",
    "Representing Points\n",
    "In this lesson, you will learn three different ways to define the distance between two points:\n",
    "\n",
    "Euclidean Distance\n",
    "Manhattan Distance\n",
    "Hamming Distance\n",
    "Before diving into the distance formulas, it is first important to consider how to represent points in your code.\n",
    "\n",
    "In this exercise, we will use a list, where each item in the list represents a dimension of the point. For example, the point (5, 8) could be represented in Python like this:\n",
    "\n",
    "pt1 = [5, 8]\n",
    "Points aren’t limited to just two dimensions. \n",
    "\n",
    "For example, a five-dimensional point could be represented as\n",
    "[4, 8, 15, 16, 23].\n",
    "\n",
    "Ultimately, we want to find the distance between two points. We’ll be writing functions that look like this:\n",
    "\n",
    "distance([1, 2, 3], [5, 8, 9])\n",
    "Note that we can only find the difference between two points if they have the same number of dimensions!"
   ]
  },
  {
   "cell_type": "markdown",
   "metadata": {},
   "source": [
    "# Euclidean Distance\n",
    "Euclidean Distance is the most commonly used distance formula. To find the Euclidean distance between two points, we first calculate the squared distance between each dimension. If we add up all of these squared differences and take the square root, we’ve computed the Euclidean distance.\n",
    "\n",
    "Let’s take a look at the equation that represents what we just learned:\n",
    "\n",
    "$ \\sqrt{(a_1-b_1)^2+(a_2-b_2)^2+\\ldots+(a_n - b_n)^2} $\n",
    " \n",
    "The image below shows a visual of Euclidean distance being calculated:\n",
    "\n",
    "\n",
    "<img src=\"images/euclidean.svg\" style=\"width: 400px;\"/>\n",
    "\n",
    "                                            The Euclidean distance between two points.\n",
    "\n",
    " $ d = \\sqrt{(a_1-b_1)^2+(a_2-b_2)^2} $\n"
   ]
  },
  {
   "cell_type": "markdown",
   "metadata": {},
   "source": [
    "# Questions\n",
    "\n",
    "1.\n",
    "Create a function named euclidean_distance() that takes two lists as parameters named pt1 and pt2.\n",
    "\n",
    "In the function, create a variable named distance, set it equal to 0, and return distance.\n",
    "\n",
    "\n",
    "\n",
    "2.\n",
    "After defining distance, create a for loop to loop through the dimensions of each point.\n",
    "\n",
    "Add the squared difference between each dimension to distance.\n",
    "\n",
    "Remember, in Python, you can square the variable num by using num ** 2.\n",
    "\n",
    "\n",
    "\n",
    "3.\n",
    "Outside of the for loop, take the square root of distance and return that value.\n",
    "\n",
    "\n",
    "\n",
    "4.\n",
    "Print the Euclidean distance between [1, 2] and [4, 0].\n",
    "\n",
    "Print the Euclidean distance between [5, 4, 3] and [1, 7, 9].\n",
    "\n",
    "Why can’t you find the difference between [2, 3, 4] and [1, 2]?"
   ]
  },
  {
   "cell_type": "code",
   "execution_count": 5,
   "metadata": {},
   "outputs": [
    {
     "name": "stdout",
     "output_type": "stream",
     "text": [
      "3.605551275463989\n",
      "7.810249675906654\n"
     ]
    }
   ],
   "source": [
    "def euclidean_distance(pt1, pt2):\n",
    "  distance = 0\n",
    "  for i in range(len(pt1)):\n",
    "    distance += (pt1[i] -pt2[i])**2\n",
    "  distance = distance**0.5\n",
    "  return distance\n",
    "\n",
    "\n",
    "print(euclidean_distance([1,2], [4,0]))\n",
    "\n",
    "print(euclidean_distance([5, 4, 3], [1, 7, 9]))\n",
    "\n",
    "#Answer: You can’t find the distance between [2, 3, 4] and [1, 2] points that have a different number of dimensions!"
   ]
  },
  {
   "cell_type": "markdown",
   "metadata": {},
   "source": [
    "# Manhattan Distance\n",
    "\n",
    "Manhattan Distance is extremely similar to Euclidean distance. Rather than summing the squared difference between each dimension, we instead sum the absolute value of the difference between each dimension. It’s called Manhattan distance because it’s similar to how you might navigate when walking city blocks. If you’ve ever wondered “how many blocks will it take me to get from point A to point B”, you’ve computed the Manhattan distance.\n",
    "\n",
    "The equation is shown below:\n",
    "\n",
    "$ \\mid a_1 - b_1 \\mid + \\mid a_2 - b_2 \\mid + \\ldots + \\mid a_n - b_n \\mid $\n",
    "\n",
    "Note that Manhattan distance will always be greater than or equal to Euclidean distance. Take a look at the image below visualizing Manhattan Distance:\n",
    "\n",
    "<img src=\"images/manhattan.svg\" style=\"width: 400px;\"/>\n",
    "\n",
    "The Manhattan distance between two points.\n",
    "\n",
    "$ d = \\mid a_1 - b_1 \\mid + \\mid a_2 - b_2 \\mid  $\n"
   ]
  },
  {
   "cell_type": "markdown",
   "metadata": {},
   "source": [
    "# Questions\n",
    "1.\n",
    "Below euclidean_distance(), create a function called manhattan_distance() that takes two lists named pt1 and pt2 as parameters.\n",
    "\n",
    "In the function, create a variable named distance, set it equal to 0, and return it.\n",
    "\n",
    "\n",
    "\n",
    "2.\n",
    "After defining distance, create a for loop to loop through the dimensions of each point.\n",
    "\n",
    "Add the absolute value of the difference between each dimension to distance.\n",
    "\n",
    "Remember, in Python, you can take the absolute value of num by using abs(num)\n",
    "\n",
    "\n",
    "\n",
    "3.\n",
    "You’re done with manhattan_distance()! Go ahead and find the Manhattan distance between the same points as last time.\n",
    "\n",
    "Below the print statements for Euclidean distance, print the Manhattan distance between [1, 2] and [4, 0].\n",
    "\n",
    "Also print the Manhattan distance between [5, 4, 3] and [1, 7, 9]."
   ]
  },
  {
   "cell_type": "code",
   "execution_count": 6,
   "metadata": {},
   "outputs": [
    {
     "name": "stdout",
     "output_type": "stream",
     "text": [
      "5\n",
      "13\n"
     ]
    }
   ],
   "source": [
    "def manhattan_distance(pt1,pt2):\n",
    "  distance = 0\n",
    "  for i in range(len(pt1)):\n",
    "    distance+= abs(pt1[i]-pt2[i])\n",
    "  return distance\n",
    "\n",
    "print(manhattan_distance([1, 2] , [4, 0]))\n",
    "\n",
    "print(manhattan_distance([5, 4, 3] , [1, 7, 9]))"
   ]
  },
  {
   "cell_type": "markdown",
   "metadata": {},
   "source": [
    "# Hamming Distance\n",
    "Hamming Distance is another slightly different variation on the distance formula. Instead of finding the difference of each dimension, Hamming distance only cares about whether the dimensions are exactly equal. When finding the Hamming distance between two points, add one for every dimension that has different values.\n",
    "\n",
    "Hamming distance is used in spell checking algorithms. For example, the Hamming distance between the word “there” and the typo “thete” is one. Each letter is a dimension, and each dimension has the same value except for one."
   ]
  },
  {
   "cell_type": "markdown",
   "metadata": {},
   "source": [
    "# Question\n",
    "1.\n",
    "Below manhattan_distance(), define your function in the same way as before. It should be named hamming_distance() and have two parameters named pt1 and pt2.\n",
    "\n",
    "Create a variable named distance, have it start at 0, and return it.\n",
    "\n",
    "2.\n",
    "After defining distance, create a for loop to loop through the dimensions of each point. If the values at each dimension are different, add 1 to distance.\n",
    "\n",
    "\n",
    "\n",
    "3.\n",
    "hamming_distance() is done as well!\n",
    "\n",
    "Print the Hamming distance between [1, 2] and [1, 100].\n",
    "\n",
    "Print the Hamming distance between [5, 4, 9] and [1, 7, 9]."
   ]
  },
  {
   "cell_type": "code",
   "execution_count": 7,
   "metadata": {},
   "outputs": [
    {
     "name": "stdout",
     "output_type": "stream",
     "text": [
      "1\n",
      "2\n"
     ]
    }
   ],
   "source": [
    "def hamming_distance(pt1, pt2):\n",
    "  distance = 0\n",
    "  for i in range(len(pt1)):\n",
    "    if pt1[i]!=pt2[i]:\n",
    "      distance+=1   \n",
    "  return distance\n",
    "print(hamming_distance([1, 2] , [1, 100]))\n",
    "\n",
    "print(hamming_distance([5, 4, 9] , [1, 7, 9]))"
   ]
  },
  {
   "cell_type": "markdown",
   "metadata": {},
   "source": [
    "# SciPy Distances\n",
    "\n",
    "Now that you’ve written these three distance formulas yourself, let’s look at how to use them using Python’s SciPy library:\n",
    "\n",
    "* Euclidean Distance .euclidean()\n",
    "* Manhattan Distance .cityblock()\n",
    "* Hamming Distance .hamming()\n",
    "\n",
    "There are a few noteworthy details to talk about:\n",
    "\n",
    "First, the scipy implementation of Manhattan distance is called cityblock(). Remember, computing Manhattan distance is like asking how many blocks away you are from a point.\n",
    "\n",
    "Second, the scipy implementation of Hamming distance will always return a number between 0 an 1. Rather than summing the number of differences in dimensions, this implementation sums those differences and then divides by the total number of dimensions. For example, in your implementation, the Hamming distance between [1, 2, 3] and [7, 2, -10] would be 2. In scipy‘s version, it would be 2/3."
   ]
  },
  {
   "cell_type": "markdown",
   "metadata": {},
   "source": [
    "#Qestions\n",
    "\n",
    "Call distance.euclidean() using the points [1, 2] and [4, 0] as parameters.\n",
    "\n",
    "Print the result.\n",
    "\n",
    "\n",
    "\n",
    "2.\n",
    "Call distance.cityblock() using the points [1, 2] and [4, 0] as parameters.\n",
    "\n",
    "Print the result.\n",
    "\n",
    "\n",
    "\n",
    "3.\n",
    "Call distance.hamming() using [5, 4, 9] and [1, 7, 9] as parameters and print the results.\n",
    "\n",
    "Your answer shouldn’t match your function’s results. Remember, scipy divides by the number of dimensions."
   ]
  },
  {
   "cell_type": "code",
   "execution_count": 8,
   "metadata": {},
   "outputs": [
    {
     "name": "stdout",
     "output_type": "stream",
     "text": [
      "3.605551275463989\n",
      "3.605551275463989\n",
      "\n",
      "5\n",
      "5\n",
      "\n",
      "2\n",
      "0.6666666666666666\n"
     ]
    }
   ],
   "source": [
    "from scipy.spatial import distance\n",
    "\n",
    "def euclidean_distance(pt1, pt2):\n",
    "  distance = 0\n",
    "  for i in range(len(pt1)):\n",
    "    distance += (pt1[i] - pt2[i]) ** 2\n",
    "  return distance ** 0.5\n",
    "\n",
    "def manhattan_distance(pt1, pt2):\n",
    "  distance = 0\n",
    "  for i in range(len(pt1)):\n",
    "    distance += abs(pt1[i] - pt2[i])\n",
    "  return distance\n",
    "\n",
    "def hamming_distance(pt1, pt2):\n",
    "  distance = 0\n",
    "  for i in range(len(pt1)):\n",
    "    if pt1[i] != pt2[i]:\n",
    "      distance += 1\n",
    "  return distance\n",
    "\n",
    "print(euclidean_distance([1, 2], [4, 0]))\n",
    "print(distance.euclidean([1, 2], [4, 0])) #from Scipy\n",
    "print(\"\")\n",
    "print(manhattan_distance([1, 2], [4, 0]))\n",
    "print(distance.cityblock([1, 2], [4, 0])) #from Scipy\n",
    "print(\"\")\n",
    "print(hamming_distance([5, 4, 9], [1, 7, 9]))\n",
    "print(distance.hamming([5, 4, 9], [1, 7, 9])) #from Scipy\n",
    "\n",
    "\n"
   ]
  },
  {
   "cell_type": "code",
   "execution_count": null,
   "metadata": {},
   "outputs": [],
   "source": []
  }
 ],
 "metadata": {
  "kernelspec": {
   "display_name": "Python 3",
   "language": "python",
   "name": "python3"
  },
  "language_info": {
   "codemirror_mode": {
    "name": "ipython",
    "version": 3
   },
   "file_extension": ".py",
   "mimetype": "text/x-python",
   "name": "python",
   "nbconvert_exporter": "python",
   "pygments_lexer": "ipython3",
   "version": "3.7.4"
  }
 },
 "nbformat": 4,
 "nbformat_minor": 2
}
