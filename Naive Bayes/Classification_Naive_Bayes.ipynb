{
 "cells": [
  {
   "cell_type": "markdown",
   "metadata": {},
   "source": [
    "# BAYES' THEOREM\n",
    "\n",
    "## Independent Events\n",
    "\n",
    "The ability to determine whether two events are independent is an important skill for statistics.\n",
    "\n",
    "If two events are independent, then the occurrence of one event does not affect the probability of the other event. Here are some examples of independent events:\n",
    "\n",
    "I wear a blue shirt; my coworker wears a blue shirt\n",
    "I take the subway to work; I eat sushi for lunch\n",
    "The NY Giants win their football game; the NY Rangers win their hockey game\n",
    "If two events are dependent, then when one event occurs, the probability of the other event occurring changes in a predictable way.\n",
    "\n",
    "Here are some examples of dependent events:\n",
    "\n",
    "It rains on Tuesday; I carry an umbrella on Tuesday\n",
    "I eat spaghetti; I have a red stain on my shirt\n",
    "I wear sunglasses; I go to the beach"
   ]
  },
  {
   "cell_type": "markdown",
   "metadata": {},
   "source": [
    "# Question\n",
    "1.\n",
    "A certain family plans to have three children. Is the event that the couple’s third child is a girl independent of the event that the couple’s first two children are girls?\n",
    "\n",
    "Save your answer ('independent' or 'not independent') to the variable third_child."
   ]
  },
  {
   "cell_type": "code",
   "execution_count": 1,
   "metadata": {},
   "outputs": [],
   "source": [
    "third_child = 'independent'"
   ]
  },
  {
   "cell_type": "markdown",
   "metadata": {},
   "source": [
    "# Conditional Probability\n",
    "\n",
    "Conditional probability is the probability that two events happen. It’s easiest to calculate conditional probability when the two events are independent.\n",
    "\n",
    "Note: For the rest of this lesson, we’ll be using the statistical convention that the probability of an event is written as P(event).\n",
    "\n",
    "If the probability of event A is P(A) and the probability of event B is P(B) and the two events are independent, then the probability of both events occurring is the product of the probabilities:\n",
    "\n",
    "P(A ∩ B) = P(A) \\times P(B)P(A∩B)=P(A)×P(B)\n",
    "The symbol ∩ just means “and”, so P(A ∩ B) means the probability that both A and B happen.\n",
    "\n",
    "For instance, suppose we are rolling a pair of dice, and want to know the probability of rolling two sixes.\n",
    "\n",
    "<img src=\"images/dice.png\" style=\"width: 400;\"/>\n",
    "\n",
    "\n",
    "\n",
    "Each die has six sides, so the probability of rolling a six is 1/6. Each die is independent (i.e., rolling one six does not increase or decrease our chance of rolling a second six), so:\n",
    "\n",
    "$ P(6 \\cap 6) = P(6) \\times P(6) = \\frac{1}{6} \\times \\frac{1}{6} = \\frac{1}{36} $\n"
   ]
  },
  {
   "cell_type": "markdown",
   "metadata": {},
   "source": [
    "# Question\n",
    "1.\n",
    "This week, there is a 30% probability that it will rain on any given day. At a certain high school, gym class is held on three days out of the five day school week.\n",
    "\n",
    "On a school day, what is the probability that it is raining and the students have gym class?\n",
    "\n",
    "Save your answer to the variable p_rain_and_gym."
   ]
  },
  {
   "cell_type": "markdown",
   "metadata": {},
   "source": [
    "# hint\n",
    "\n",
    "$P(rain)=0.30$\n",
    "\n",
    "$P(gym) = \\frac{3.0}{5.0} = 0.60P $\n",
    "\n",
    "Because these two events are independent:\n",
    "\n",
    "$ P(rain ∩ gym) = P(rain) \\times P(gym)P(rain∩gym)=P(rain)×P(gym) $"
   ]
  },
  {
   "cell_type": "code",
   "execution_count": 2,
   "metadata": {},
   "outputs": [
    {
     "name": "stdout",
     "output_type": "stream",
     "text": [
      "0.18\n"
     ]
    }
   ],
   "source": [
    "import numpy as np\n",
    "\n",
    "p_rain_and_gym = .30 * (3.0/5.0)\n",
    "\n",
    "print(p_rain_and_gym)"
   ]
  },
  {
   "cell_type": "markdown",
   "metadata": {},
   "source": [
    "# Testing for a Rare Disease\n",
    "\n",
    "Suppose you are a doctor and you need to test if a patient has a certain rare disease. The test is very accurate: it’s correct 99% of the time. The disease is very rare: only 1 in 100,000 patients have it.\n",
    "\n",
    "You administer the test and it comes back positive, so your patient must have the disease, right?\n",
    "\n",
    "Not necessarily. If we just consider the test, there is only a 1% chance that it is wrong, but we actually have more information: we know how rare the disease is.\n",
    "\n",
    "Given that the test came back positive, there are two possibilities:\n",
    "\n",
    "The patient had the disease, and the test correctly diagnosed the disease.\n",
    "The patient didn’t have the disease and the test incorrectly diagnosed that they had the disease."
   ]
  },
  {
   "cell_type": "markdown",
   "metadata": {},
   "source": [
    "# Question\n",
    "1.\n",
    "What is the probability that the patient had the disease and the test correctly diagnosed the disease?\n",
    "\n",
    "Save your answer to the variable p_disease_and_correct.\n",
    "\n",
    "\n",
    "Hint\n",
    "The disease is rare, so the probability that the patient had the disease is 1 out of 100,000:\n",
    "\n",
    "$ P(disease) = \\frac{1}{100000}$\n",
    " \n",
    "The test is only wrong 1% of the time, so it is correct 99% of the time:\n",
    "\n",
    "$P(test\\ is\\ correct) = 0.99$ \n",
    "\n",
    "So the answer should look like:\n",
    "\n",
    "$p_disease_and_correct = (1.0 / 100000) * 0.99$\n",
    "\n",
    "2.\n",
    "What is the probability that the patient does not have the disease and the test incorrectly diagnosed the disease?\n",
    "\n",
    "Save your answer to the variable p_no_disease_and_incorrect.\n",
    "\n",
    "\n",
    "Hint\n",
    "The disease is rare, so the probability that the patient does not have the disease the disease is 99,999 out of 100,000:\n",
    "\n",
    "$P(disease) = \\frac{99999}{100000}$\n",
    "\t \n",
    "The test is only wrong 1% of the time:\n",
    "\n",
    "$P(test\\ is\\ correct) = 0.01$\n",
    "\n",
    "So the answer should look like:\n",
    "\n",
    "p_no_disease_and_incorrect = $(99999.0 / 100000) * 0.01$\n",
    "\n",
    "3.\n",
    "Print both p_disease_and_correct and p_no_disease_and_incorrect."
   ]
  },
  {
   "cell_type": "code",
   "execution_count": 3,
   "metadata": {},
   "outputs": [
    {
     "name": "stdout",
     "output_type": "stream",
     "text": [
      "9.9e-06\n",
      "0.0099999\n"
     ]
    }
   ],
   "source": [
    "import numpy as np\n",
    "\n",
    "p_disease_and_correct = .99 * (1.0/100000)\n",
    "\n",
    "print(p_disease_and_correct)\n",
    "\n",
    "p_no_disease_and_incorrect = (99999.0/100000) * .01\n",
    "\n",
    "print(p_no_disease_and_incorrect)"
   ]
  },
  {
   "cell_type": "markdown",
   "metadata": {},
   "source": [
    "# Question\n",
    "\n",
    "1.\n",
    "Calculate P(positive result | rare disease), or the probability of a positive test result, given that a patient really has this rare disease.\n",
    "\n",
    "Save your answer (as a decimal) to p_positive_given_disease.\n",
    "\n",
    "\n",
    "Hint\n",
    "The test is 99% accurate; given the fact that the patient has the disease, we know that there is a 99% probability that the test will return a positive result.\n",
    "\n",
    "This is exactly $P(positive result | rare disease)$.\n",
    "\n",
    "So the answer should look like:\n",
    "\n",
    "p_positive_given_disease = 0.99\n",
    "2.\n",
    "What is P(rare disease), the probability that a randomly selected patient has the rare disease?\n",
    "\n",
    "Save your answer to p_disease.\n",
    "\n",
    "\n",
    "Hint\n",
    "The disease is very rare. Only 1 in 100,000 people have it.\n",
    "\n",
    "3.\n",
    "We now need to compute the denominator; we need to find P(positive result).\n",
    "\n",
    "As we discussed previously, there are two ways to get a positive result:\n",
    "\n",
    "The patient had the disease, and the test correctly diagnosed the disease.\n",
    "The patient didn’t have the disease and the test incorrectly diagnosed that they had the disease.\n",
    "Using these two probabilities, calculate the total probability that a randomly selected patient receives a positive test result, P(positive result).\n",
    "\n",
    "Save your answer to the variable p_positive.\n",
    "\n",
    "\n",
    "Hint\n",
    "The probability that the patient had the disease, and the test correctly diagnosed the disease is:\n",
    "\n",
    "$1.0 / 100000.0 * 0.99$\n",
    "\n",
    "The probability that the patient didn’t have the disease and the test incorrectly diagnosed that they had the disease is:\n",
    "\n",
    "$99999.0 / 100000.0 * 0.01$\n",
    "\n",
    "The probability of either event A or event B happening is given by:\n",
    "\n",
    "$P(A\\ or\\ B) = P(A) + P(B)$ \n",
    "\n",
    "4.\n",
    "Substitute all three of these values into Bayes’ Theorem and calculate $P(rare disease | positive result)$.\n",
    "\n",
    "Save your result as p_disease_given_positive.\n",
    "\n",
    "\n",
    "Hint\n",
    "The numerator should be (p_positive_given_disease) * (p_disease).\n",
    "\n",
    "The denominator should be p_positive.\n",
    "\n",
    "5.\n",
    "Print p_disease_given_positive.\n",
    "\n",
    "Is it likely that your patient has this disease?\n",
    "\n",
    "\n",
    "Hint\n",
    "print p_disease_given_positive\n",
    "The result should look something like:\n",
    "\n",
    "0.000989010989011"
   ]
  },
  {
   "cell_type": "code",
   "execution_count": 4,
   "metadata": {},
   "outputs": [
    {
     "name": "stdout",
     "output_type": "stream",
     "text": [
      "0.9899999999999999\n",
      "1e-05\n",
      "0.01001\n",
      "0.000989010989010989\n"
     ]
    }
   ],
   "source": [
    "import numpy as np\n",
    "\n",
    "# P(positive result | rare disease)\n",
    "p_positive_given_disease = (0.99 * (.00001))/ (1./100000.)\n",
    "print(p_positive_given_disease)\n",
    "\n",
    "# P(rare disease)\n",
    "p_disease = 1./100000.\n",
    "print(p_disease)\n",
    "\n",
    "\n",
    "# P(positive result)\n",
    "p_positive = (0.00001) + (0.01) \n",
    "print(p_positive)\n",
    "\n",
    "\n",
    "# P(rare disease | positive result)\n",
    "# result\n",
    "p_disease_given_positive = (p_positive_given_disease) * (p_disease) / (p_positive)\n",
    "\n",
    "print(p_disease_given_positive)"
   ]
  },
  {
   "cell_type": "markdown",
   "metadata": {},
   "source": [
    "# Spam Filters\n",
    "Let’s explore a different example. Email spam filters use Bayes’ Theorem to determine if certain words indicate that an email is spam.\n",
    "\n",
    "Let’s a take word that often appears in spam: “enhancement”.\n",
    "\n",
    "With just 3 facts, we can make some preliminary steps towards a good spam filter:\n",
    "\n",
    "1. “enhancement” appears in just 0.1% of non-spam emails\n",
    "\n",
    "2. “enhancement” appears in 5% of spam emails\n",
    "\n",
    "3. Spam emails make up about 20% of total emails\n",
    "\n",
    "Given that an email contains “enhancement”, what is the probability that the email is spam?"
   ]
  },
  {
   "cell_type": "markdown",
   "metadata": {},
   "source": [
    "# Question\n",
    "1.\n",
    "In this example, we are dealing with two probabilities:\n",
    "\n",
    "P(enhancement) - the probability that the word “enhancement” appears in an email.\n",
    "\n",
    "P(spam) - the probability that an email is spam.\n",
    "\n",
    "Using Bayes’ Theorem to answer our question means that we want to calculate P(A|B).\n",
    "\n",
    "But what are A and B referring to in this case?\n",
    "\n",
    "Save the string 'enhancement' or 'spam' to the variable a.\n",
    "\n",
    "Save the string 'enhancement' or 'spam' to the variable b.\n",
    "\n",
    "\n",
    "\n",
    "2.\n",
    "What is P(spam)?\n",
    "\n",
    "Save your answer to p_spam.\n",
    "\n",
    "\n",
    "Stuck? Get a hint\n",
    "3.\n",
    "What is P(enhancement | spam)?\n",
    "\n",
    "Save your answer to p_enhancement_given_spam.\n",
    "\n",
    "\n",
    "Stuck? Get a hint\n",
    "4.\n",
    "We want to know the overall probability that any email (spam or non-spam) contains “enhancement”.\n",
    "\n",
    "Because we know the probability of “enhancement” occurring in both spam (0.05) and non-spam (0.001) emails, we can use a weighted average to calculate the probability of “enhancement” occurring in an email:\n",
    "\n",
    "$P(enhancement) = P(enhancement\\ |\\ spam) \\times P(spam) + P(enhacement\\ |\\ not\\ spam) \\times P(not\\ spam)$\n",
    "\n",
    "Save your answer to p_enhancement.\n",
    "\n",
    "\n",
    "Hint\n",
    "The probability that an email is not spam is just 1 - the probability that the email is spam:\n",
    "\n",
    "$P(not\\ spam) = 1 - P(spam) $\n",
    "\n",
    "$P(enhancement | non-spam)$ is given to you above.\n",
    "\n",
    "5.\n",
    "Now that we know:\n",
    "\n",
    "P(spam)\n",
    "P(enhancement | spam)\n",
    "P(enhancement)\n",
    "\n",
    "We can plug this into Bayes’ Theorem:\n",
    "\n",
    "$P(A|B) = \\frac{P(B|A) \\cdot P(A)}{P(B)}$ \n",
    "\n",
    "\n",
    "Save your answer as p_spam_enhancement.\n",
    "\n",
    "\n",
    "\n",
    "6.\n",
    "Print p_spam_enhancement. This is the probability that an email is spam given that it contains the word “enhancement”.\n",
    "\n",
    "Should we block all emails that contain “enhancement”?\n",
    "\n",
    "How much non-spam email would we block?"
   ]
  },
  {
   "cell_type": "code",
   "execution_count": 6,
   "metadata": {},
   "outputs": [
    {
     "name": "stdout",
     "output_type": "stream",
     "text": [
      "0.9259259259259259\n"
     ]
    }
   ],
   "source": [
    "import numpy as np\n",
    "\n",
    "a = 'spam'\n",
    "b = 'enhancement'\n",
    "\n",
    "p_spam = 0.2\n",
    "\n",
    "p_enhancement_given_spam = 0.05\n",
    "\n",
    "p_enhancement = 0.05 * 0.2 + 0.001 * (1 - 0.2)\n",
    "\n",
    "p_spam_enhancement = p_enhancement_given_spam * p_spam / p_enhancement\n",
    "\n",
    "print(p_spam_enhancement)"
   ]
  },
  {
   "cell_type": "markdown",
   "metadata": {},
   "source": [
    "# Review\n",
    "\n",
    "In this course, we learned several new definitions:\n",
    "\n",
    "* Two events are independent if the occurrence of one event does not affect the probability of the second event\n",
    "\n",
    "* If two events are independent then:\n",
    "\n",
    "   $P(A ∩ B) = P(A) \\times P(B)$ \n",
    "   \n",
    "\n",
    "* A prior is an additional piece of information that tells us how likely an event is\n",
    "\n",
    "* A frequentist approach to statistics does not incorporate a prior\n",
    "\n",
    "* A Bayesian approach to statistics incorporates prior knowledge\n",
    "\n",
    "* Bayes’ Theorem is the following:\n",
    "\n",
    "   $P(A|B) = \\frac{P(B|A) \\cdot P(A)}{P(B)}$\n",
    "   \n",
    "   \n",
    " <img src=\"images/bayes.svg\" style=\"width: 400;\"/>"
   ]
  },
  {
   "cell_type": "markdown",
   "metadata": {},
   "source": []
  },
  {
   "cell_type": "code",
   "execution_count": null,
   "metadata": {},
   "outputs": [],
   "source": []
  }
 ],
 "metadata": {
  "kernelspec": {
   "display_name": "Python 3",
   "language": "python",
   "name": "python3"
  },
  "language_info": {
   "codemirror_mode": {
    "name": "ipython",
    "version": 3
   },
   "file_extension": ".py",
   "mimetype": "text/x-python",
   "name": "python",
   "nbconvert_exporter": "python",
   "pygments_lexer": "ipython3",
   "version": "3.7.4"
  }
 },
 "nbformat": 4,
 "nbformat_minor": 2
}
