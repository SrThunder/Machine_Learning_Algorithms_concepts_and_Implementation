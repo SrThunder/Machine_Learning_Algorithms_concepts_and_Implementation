{
 "cells": [
  {
   "cell_type": "markdown",
   "metadata": {},
   "source": [
    "# K-NEAREST NEIGHBOR REGRESSOR\n",
    "## Regression\n",
    "\n",
    "The K-Nearest Neighbors algorithm is a powerful supervised machine learning algorithm typically used for classification. However, it can also perform regression.\n",
    "\n",
    "In this lesson, we will use the movie dataset that was used in the K-Nearest Neighbors classifier lesson. However, instead of classifying a new movie as either good or bad, we are now going to predict its IMDb rating as a real number.\n",
    "\n",
    "This process is almost identical to classification, except for the final step. Once again, we are going to find the k nearest neighbors of the new movie by using the distance formula. However, instead of counting the number of good and bad neighbors, the regressor averages their IMDb ratings.\n",
    "\n",
    "For example, if the three nearest neighbors to an unrated movie have ratings of 5.0, 9.2, and 6.8, then we could predict that this new movie will have a rating of 7.0."
   ]
  },
  {
   "cell_type": "markdown",
   "metadata": {},
   "source": [
    "1.\n",
    "We’ve imported most of the K-Nearest Neighbor algorithm. Before we dive into finishing the regressor, let’s refresh ourselves with the data.\n",
    "\n",
    "At the bottom of your code, print movie_dataset[\"Life of Pi\"]. You should see a list of three values. These values are the normalized values for the movie’s budget, runtime, and release year.\n",
    "\n",
    "\n",
    "\n",
    "2.\n",
    "Print the rating for \"Life of Pi\". This can be found in movie_ratings.\n",
    "\n",
    "\n",
    "\n",
    "3.\n",
    "We’ve included the majority of the K-Nearest Neighbor algorithm in the predict() function. Right now, the variable neighbors stores a list of [distance, title] pairs.\n",
    "\n",
    "Loop through every neighbor and find its rating in movie_ratings. Add those ratings together and return that sum divided by the total number of neighbors.\n",
    "\n",
    "\n",
    "\n",
    "4.\n",
    "Call predict with the following parameters:\n",
    "\n",
    "[0.016, 0.300, 1.022]\n",
    "\n",
    "movie_dataset\n",
    "\n",
    "movie_ratings\n",
    "\n",
    "5\n",
    "\n",
    "Print the result.\n",
    "\n",
    "Note that the list [0.016, 0.300, 1.022] is the normalized budget, runtime, and year of the movie Incredibles 2! The normalized year is larger than 1 because our training set only had movies that were released between 1927 and 2016 — Incredibles 2 was released in 2018."
   ]
  },
  {
   "cell_type": "code",
   "execution_count": 1,
   "metadata": {},
   "outputs": [
    {
     "ename": "ImportError",
     "evalue": "cannot import name 'movie_dataset' from 'movies' (C:\\Users\\naim_\\Anaconda3\\lib\\site-packages\\movies.py)",
     "output_type": "error",
     "traceback": [
      "\u001b[1;31m---------------------------------------------------------------------------\u001b[0m",
      "\u001b[1;31mImportError\u001b[0m                               Traceback (most recent call last)",
      "\u001b[1;32m<ipython-input-1-0136b52f854d>\u001b[0m in \u001b[0;36m<module>\u001b[1;34m\u001b[0m\n\u001b[1;32m----> 1\u001b[1;33m \u001b[1;32mfrom\u001b[0m \u001b[0mmovies\u001b[0m \u001b[1;32mimport\u001b[0m \u001b[0mmovie_dataset\u001b[0m\u001b[1;33m,\u001b[0m \u001b[0mmovie_ratings\u001b[0m\u001b[1;33m\u001b[0m\u001b[1;33m\u001b[0m\u001b[0m\n\u001b[0m\u001b[0;32m      2\u001b[0m \u001b[1;33m\u001b[0m\u001b[0m\n\u001b[0;32m      3\u001b[0m \u001b[1;32mdef\u001b[0m \u001b[0mdistance\u001b[0m\u001b[1;33m(\u001b[0m\u001b[0mmovie1\u001b[0m\u001b[1;33m,\u001b[0m \u001b[0mmovie2\u001b[0m\u001b[1;33m)\u001b[0m\u001b[1;33m:\u001b[0m\u001b[1;33m\u001b[0m\u001b[1;33m\u001b[0m\u001b[0m\n\u001b[0;32m      4\u001b[0m   \u001b[0msquared_difference\u001b[0m \u001b[1;33m=\u001b[0m \u001b[1;36m0\u001b[0m\u001b[1;33m\u001b[0m\u001b[1;33m\u001b[0m\u001b[0m\n\u001b[0;32m      5\u001b[0m   \u001b[1;32mfor\u001b[0m \u001b[0mi\u001b[0m \u001b[1;32min\u001b[0m \u001b[0mrange\u001b[0m\u001b[1;33m(\u001b[0m\u001b[0mlen\u001b[0m\u001b[1;33m(\u001b[0m\u001b[0mmovie1\u001b[0m\u001b[1;33m)\u001b[0m\u001b[1;33m)\u001b[0m\u001b[1;33m:\u001b[0m\u001b[1;33m\u001b[0m\u001b[1;33m\u001b[0m\u001b[0m\n",
      "\u001b[1;31mImportError\u001b[0m: cannot import name 'movie_dataset' from 'movies' (C:\\Users\\naim_\\Anaconda3\\lib\\site-packages\\movies.py)"
     ]
    }
   ],
   "source": [
    "from movies import movie_dataset, movie_ratings\n",
    "\n",
    "def distance(movie1, movie2):\n",
    "  squared_difference = 0\n",
    "  for i in range(len(movie1)):\n",
    "    squared_difference += (movie1[i] - movie2[i]) ** 2\n",
    "  final_distance = squared_difference ** 0.5\n",
    "  return final_distance\n",
    "\n",
    "def predict(unknown, dataset, movie_ratings, k):\n",
    "  distances = []\n",
    "  #Looping through all points in the dataset\n",
    "  for title in dataset:\n",
    "    movie = dataset[title]\n",
    "    distance_to_point = distance(movie, unknown)\n",
    "    #Adding the distance and point associated with that distance\n",
    "    distances.append([distance_to_point, title])\n",
    "  distances.sort()\n",
    "  #Taking only the k closest points\n",
    "  neighbors = distances[0:k]\n",
    "  sum = 0\n",
    "  for neighbor in neighbors:\n",
    "    title = neighbor[1]\n",
    "    sum += movie_ratings[title]\n",
    "  return sum/len(neighbors)\n",
    "\n",
    "print(movie_dataset[\"Life of Pi\"])\n",
    "print(movie_ratings[\"Life of Pi\"])\n",
    "print(predict([0.016, 0.300, 1.022], movie_dataset, movie_ratings, 5))\n"
   ]
  },
  {
   "cell_type": "markdown",
   "metadata": {},
   "source": [
    "# K-NEAREST NEIGHBOR REGRESSOR\n",
    "## Weighted Regression\n",
    "\n",
    "We’re off to a good start, but we can be even more clever in the way that we compute the average. We can compute a weighted average based on how close each neighbor is.\n",
    "\n",
    "Let’s say we’re trying to predict the rating of movie X and we’ve found its three nearest neighbors. Consider the following table:\n",
    "\n",
    "|Movie|Rating |\tDistance to movie X|\n",
    "| --- | --- | --- |\n",
    "|A\t  |  5.0\t|  3.2|\n",
    "|B\t  |  6.8\t| 11.5|\n",
    "|C\t  |  9.0\t| 1.1 |\n",
    "\n",
    "If we find the mean, the predicted rating for X would be 6.93. However, movie X is most similar to movie C, so movie C’s rating should be more important when computing the average. Using a weighted average, we can find movie X’s rating:\n",
    "\n",
    "<img src=\"images/weightedAverage.png\" style=\"width: 400px;\"/>\n",
    "\n",
    "\n",
    "The numerator is the sum of every rating divided by their respective distances. The denominator is the sum of one over every distance. Even though the ratings are the same as before, the weighted average has now gone up to 7.9."
   ]
  },
  {
   "cell_type": "markdown",
   "metadata": {},
   "source": [
    "# Question\n",
    "\n",
    "1.\n",
    "Let’s redo our predict() function so it computes the weighted average.\n",
    "\n",
    "Before you begin looping through the neighbors, create a variable named numerator and set it to 0. Loop through every neighbor and add the neighbor’s rating (found in movie_ratings) divided by the neighbor’s distance to numerator.\n",
    "\n",
    "For now, return numerator.\n",
    "\n",
    "\n",
    "\n",
    "2.\n",
    "Let’s now calculate the denominator of the weighted average. Before your loop, create a variable named denominator and set it equal to 0.\n",
    "\n",
    "Inside your for loop, add 1 divided by the neighbor’s distance to denominator.\n",
    "\n",
    "Outside the loop, return numerator/denominator.\n",
    "\n",
    "\n",
    "\n",
    "3.\n",
    "Once again call your predict function using Incredibles 2‘s features. Those features were [0.016, 0.300, 1.022]. Set k = 5. Print the results.\n",
    "\n",
    "How did using a weighted average change the predicted rating? Remember, before calculating the weighted average the prediction was 6.86."
   ]
  },
  {
   "cell_type": "code",
   "execution_count": 2,
   "metadata": {},
   "outputs": [
    {
     "ename": "ImportError",
     "evalue": "cannot import name 'movie_dataset' from 'movies' (C:\\Users\\naim_\\Anaconda3\\lib\\site-packages\\movies.py)",
     "output_type": "error",
     "traceback": [
      "\u001b[1;31m---------------------------------------------------------------------------\u001b[0m",
      "\u001b[1;31mImportError\u001b[0m                               Traceback (most recent call last)",
      "\u001b[1;32m<ipython-input-2-3da2a61b3eb9>\u001b[0m in \u001b[0;36m<module>\u001b[1;34m\u001b[0m\n\u001b[1;32m----> 1\u001b[1;33m \u001b[1;32mfrom\u001b[0m \u001b[0mmovies\u001b[0m \u001b[1;32mimport\u001b[0m \u001b[0mmovie_dataset\u001b[0m\u001b[1;33m,\u001b[0m \u001b[0mmovie_ratings\u001b[0m\u001b[1;33m\u001b[0m\u001b[1;33m\u001b[0m\u001b[0m\n\u001b[0m\u001b[0;32m      2\u001b[0m \u001b[1;33m\u001b[0m\u001b[0m\n\u001b[0;32m      3\u001b[0m \u001b[1;32mdef\u001b[0m \u001b[0mdistance\u001b[0m\u001b[1;33m(\u001b[0m\u001b[0mmovie1\u001b[0m\u001b[1;33m,\u001b[0m \u001b[0mmovie2\u001b[0m\u001b[1;33m)\u001b[0m\u001b[1;33m:\u001b[0m\u001b[1;33m\u001b[0m\u001b[1;33m\u001b[0m\u001b[0m\n\u001b[0;32m      4\u001b[0m   \u001b[0msquared_difference\u001b[0m \u001b[1;33m=\u001b[0m \u001b[1;36m0\u001b[0m\u001b[1;33m\u001b[0m\u001b[1;33m\u001b[0m\u001b[0m\n\u001b[0;32m      5\u001b[0m   \u001b[1;32mfor\u001b[0m \u001b[0mi\u001b[0m \u001b[1;32min\u001b[0m \u001b[0mrange\u001b[0m\u001b[1;33m(\u001b[0m\u001b[0mlen\u001b[0m\u001b[1;33m(\u001b[0m\u001b[0mmovie1\u001b[0m\u001b[1;33m)\u001b[0m\u001b[1;33m)\u001b[0m\u001b[1;33m:\u001b[0m\u001b[1;33m\u001b[0m\u001b[1;33m\u001b[0m\u001b[0m\n",
      "\u001b[1;31mImportError\u001b[0m: cannot import name 'movie_dataset' from 'movies' (C:\\Users\\naim_\\Anaconda3\\lib\\site-packages\\movies.py)"
     ]
    }
   ],
   "source": [
    "from movies import movie_dataset, movie_ratings\n",
    "\n",
    "def distance(movie1, movie2):\n",
    "  squared_difference = 0\n",
    "  for i in range(len(movie1)):\n",
    "    squared_difference += (movie1[i] - movie2[i]) ** 2\n",
    "  final_distance = squared_difference ** 0.5\n",
    "  return final_distance\n",
    "\n",
    "def predict(unknown, dataset, movie_ratings, k):\n",
    "  distances = []\n",
    "  #Looping through all points in the dataset\n",
    "  for title in dataset:\n",
    "    movie = dataset[title]\n",
    "    distance_to_point = distance(movie, unknown)\n",
    "    #Adding the distance and point associated with that distance\n",
    "    distances.append([distance_to_point, title])\n",
    "  distances.sort()\n",
    "  #Taking only the k closest points\n",
    "  neighbors = distances[0:k]\n",
    "  numerator = 0\n",
    "  denominator = 0\n",
    "  for neighbor in neighbors:\n",
    "    rating = movie_ratings[neighbor[1]]\n",
    "    distance_to_neighbor = neighbor[0]\n",
    "    numerator += rating / distance_to_neighbor\n",
    "    denominator += 1 / distance_to_neighbor\n",
    "  return numerator / denominator\n",
    "\n",
    "print(predict([0.016, 0.300, 1.022], movie_dataset, movie_ratings, 5))\n"
   ]
  },
  {
   "cell_type": "markdown",
   "metadata": {},
   "source": [
    "#K-NEAREST NEIGHBOR REGRESSOR\n",
    "##Scikit-learn\n",
    "\n",
    "Now that you’ve written your own K-Nearest Neighbor regression model, let’s take a look at scikit-learn’s implementation. The KNeighborsRegressor class is very similar to KNeighborsClassifier.\n",
    "\n",
    "We first need to create the regressor. We can use the parameter n_neighbors to define our value for k.\n",
    "\n",
    "We can also choose whether or not to use a weighted average using the parameter weights. If weights equals \"uniform\", all neighbors will be considered equally in the average. If weights equals \"distance\", then a weighted average is used.\n",
    "\n",
    "classifier = KNeighborsRegressor(n_neighbors = 3, weights = \"distance\")\n",
    "Next, we need to fit the model to our training data using the .fit() method. .fit() takes two parameters. The first is a list of points, and the second is a list of values associated with those points.\n",
    "\n",
    "\n",
    "training_points = [\n",
    "  [0.5, 0.2, 0.1],\n",
    "  [0.9, 0.7, 0.3],\n",
    "  [0.4, 0.5, 0.7]\n",
    "]\n",
    "\n",
    "training_labels = [5.0, 6.8, 9.0]\n",
    "\n",
    "classifier.fit(training_points, training_labels)\n",
    "\n",
    "Finally, we can make predictions on new data points using the .predict() method. .predict() takes a list of points and returns a list of predictions for those points.\n",
    "\n",
    "unknown_points = [\n",
    "  [0.2, 0.1, 0.7],\n",
    "  [0.4, 0.7, 0.6],\n",
    "  [0.5, 0.8, 0.1]\n",
    "]\n",
    "\n",
    "guesses = classifier.predict(unknown_points)"
   ]
  },
  {
   "cell_type": "markdown",
   "metadata": {},
   "source": [
    "# Question\n",
    "1.\n",
    "Create a KNeighborsRegressor named regressor where n_neighbors = 5 and weights = \"distance\".\n",
    "\n",
    "\n",
    "\n",
    "2.\n",
    "We’ve also imported some movie data. Train your classifier using movie_dataset as the training points and movie_ratings as the training values.\n",
    "\n",
    "\n",
    "3.\n",
    "Let’s predict some movie ratings. Predict the ratings for the following movies:\n",
    "\n",
    "[0.016, 0.300, 1.022],\n",
    "[0.0004092981, 0.283, 1.0112],\n",
    "[0.00687649, 0.235, 1.0112].\n",
    "\n",
    "These three lists are the features for Incredibles 2, The Big Sick, and The Greatest Showman. Those three numbers associated with a movie are the normalized budget, runtime, and year of release.\n",
    "\n",
    "Print the predictions!"
   ]
  },
  {
   "cell_type": "code",
   "execution_count": 3,
   "metadata": {},
   "outputs": [
    {
     "ename": "ImportError",
     "evalue": "cannot import name 'movie_dataset' from 'movies' (C:\\Users\\naim_\\Anaconda3\\lib\\site-packages\\movies.py)",
     "output_type": "error",
     "traceback": [
      "\u001b[1;31m---------------------------------------------------------------------------\u001b[0m",
      "\u001b[1;31mImportError\u001b[0m                               Traceback (most recent call last)",
      "\u001b[1;32m<ipython-input-3-bd157fd88a72>\u001b[0m in \u001b[0;36m<module>\u001b[1;34m\u001b[0m\n\u001b[1;32m----> 1\u001b[1;33m \u001b[1;32mfrom\u001b[0m \u001b[0mmovies\u001b[0m \u001b[1;32mimport\u001b[0m \u001b[0mmovie_dataset\u001b[0m\u001b[1;33m,\u001b[0m \u001b[0mmovie_ratings\u001b[0m\u001b[1;33m\u001b[0m\u001b[1;33m\u001b[0m\u001b[0m\n\u001b[0m\u001b[0;32m      2\u001b[0m \u001b[1;32mfrom\u001b[0m \u001b[0msklearn\u001b[0m\u001b[1;33m.\u001b[0m\u001b[0mneighbors\u001b[0m \u001b[1;32mimport\u001b[0m \u001b[0mKNeighborsRegressor\u001b[0m\u001b[1;33m\u001b[0m\u001b[1;33m\u001b[0m\u001b[0m\n\u001b[0;32m      3\u001b[0m \u001b[1;33m\u001b[0m\u001b[0m\n\u001b[0;32m      4\u001b[0m \u001b[0mregressor\u001b[0m \u001b[1;33m=\u001b[0m \u001b[0mKNeighborsRegressor\u001b[0m\u001b[1;33m(\u001b[0m\u001b[0mn_neighbors\u001b[0m \u001b[1;33m=\u001b[0m \u001b[1;36m180\u001b[0m\u001b[1;33m,\u001b[0m \u001b[0mweights\u001b[0m \u001b[1;33m=\u001b[0m \u001b[1;34m\"distance\"\u001b[0m\u001b[1;33m)\u001b[0m\u001b[1;33m\u001b[0m\u001b[1;33m\u001b[0m\u001b[0m\n\u001b[0;32m      5\u001b[0m \u001b[1;33m\u001b[0m\u001b[0m\n",
      "\u001b[1;31mImportError\u001b[0m: cannot import name 'movie_dataset' from 'movies' (C:\\Users\\naim_\\Anaconda3\\lib\\site-packages\\movies.py)"
     ]
    }
   ],
   "source": [
    "from movies import movie_dataset, movie_ratings\n",
    "from sklearn.neighbors import KNeighborsRegressor\n",
    "\n",
    "regressor = KNeighborsRegressor(n_neighbors = 180, weights = \"distance\")\n",
    "\n",
    "regressor.fit(movie_dataset,movie_ratings)\n",
    "\n",
    "print(regressor.predict([[0.016, 0.300, 1.022],\n",
    "[0.0004092981, 0.283, 1.0112],\n",
    "[0.00687649, 0.235, 1.0112]]))"
   ]
  },
  {
   "cell_type": "markdown",
   "metadata": {},
   "source": [
    "# K-NEAREST NEIGHBOR REGRESSOR\n",
    "## Review\n",
    "Great work! Here are some of the major takeaways from this lesson:\n",
    "\n",
    "The K-Nearest Neighbor algorithm can be used for regression. Rather than returning a classification, it returns a number.\n",
    "By using a weighted average, data points that are extremely similar to the input point will have more of a say in the final result.\n",
    "scikit-learn has an implementation of a K-Nearest Neighbor regressor named KNeighborsRegressor.\n",
    "In the browser, you’ll find an example of a K-Nearest Neighbor regressor in action. Instead of the training data coming from IMDb ratings, you can create the training data yourself! Rate the movies that you have seen. Once you’ve rated more than k movies, a K-Nearest Neighbor regressor will train on those ratings. It will then make predictions for every movie that you haven’t seen.\n",
    "\n",
    "As you add more and more ratings, the predictor should become more accurate. After all, the regressor needs information from the user in order to make personalized recommendations. As a result, the system is somewhat useless to brand new users — it takes some time for the system to “warm up” and get enough data about a user. This conundrum is an example of the cold start problem."
   ]
  },
  {
   "cell_type": "code",
   "execution_count": null,
   "metadata": {},
   "outputs": [],
   "source": []
  }
 ],
 "metadata": {
  "kernelspec": {
   "display_name": "Python 3",
   "language": "python",
   "name": "python3"
  },
  "language_info": {
   "codemirror_mode": {
    "name": "ipython",
    "version": 3
   },
   "file_extension": ".py",
   "mimetype": "text/x-python",
   "name": "python",
   "nbconvert_exporter": "python",
   "pygments_lexer": "ipython3",
   "version": "3.7.4"
  }
 },
 "nbformat": 4,
 "nbformat_minor": 2
}
